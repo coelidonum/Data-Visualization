{
  "nbformat": 4,
  "nbformat_minor": 0,
  "metadata": {
    "colab": {
      "name": "data_viz_happiness_in_the_world_and_socioeconomic_indicator.ipynb",
      "provenance": [],
      "collapsed_sections": []
    },
    "kernelspec": {
      "name": "python3",
      "display_name": "Python 3"
    }
  },
  "cells": [
    {
      "cell_type": "markdown",
      "metadata": {
        "id": "qjLqZnz4vNQM",
        "colab_type": "text"
      },
      "source": [
        "You can change the socio-economic indicator and/or the year and see how the happiness score changes"
      ]
    },
    {
      "cell_type": "code",
      "metadata": {
        "id": "q66viifhk38b",
        "colab_type": "code",
        "outputId": "d2e16bac-e9ee-4183-d114-2315f55b0637",
        "colab": {
          "base_uri": "https://localhost:8080/",
          "height": 946
        }
      },
      "source": [
        "from IPython.display import IFrame\n",
        "IFrame('https://public.tableau.com/views/DataVizprojectHappinessmain/Dashboard1?:embed=y&:display_count=yes&:showVizHome=no#3', width=1000, height=925)"
      ],
      "execution_count": 0,
      "outputs": [
        {
          "output_type": "execute_result",
          "data": {
            "text/html": [
              "\n",
              "        <iframe\n",
              "            width=\"1000\"\n",
              "            height=\"925\"\n",
              "            src=\"https://public.tableau.com/views/DataVizprojectHappinessmain/Dashboard1?:embed=y&:display_count=yes&:showVizHome=no#3\"\n",
              "            frameborder=\"0\"\n",
              "            allowfullscreen\n",
              "        ></iframe>\n",
              "        "
            ],
            "text/plain": [
              "<IPython.lib.display.IFrame at 0x7f51b0669be0>"
            ]
          },
          "metadata": {
            "tags": []
          },
          "execution_count": 13
        }
      ]
    },
    {
      "cell_type": "markdown",
      "metadata": {
        "id": "DMO2R0ISu9Tx",
        "colab_type": "text"
      },
      "source": [
        "The variation of happiness score in geographic regions"
      ]
    },
    {
      "cell_type": "code",
      "metadata": {
        "id": "4FyLA2vwr9VL",
        "colab_type": "code",
        "outputId": "017f330a-b861-47b0-9bc5-702cf15ee39a",
        "colab": {
          "base_uri": "https://localhost:8080/",
          "height": 966
        }
      },
      "source": [
        "IFrame('https://public.tableau.com/views/DataVizprojectHappinessvssocio-economicvariables/Dashboard2?:embed=y&:display_count=yes&:showVizHome=no#3', width=1500, height=925)"
      ],
      "execution_count": 0,
      "outputs": [
        {
          "output_type": "execute_result",
          "data": {
            "text/html": [
              "\n",
              "        <iframe\n",
              "            width=\"1500\"\n",
              "            height=\"925\"\n",
              "            src=\"https://public.tableau.com/views/DataVizprojectHappinessvssocio-economicvariables/Dashboard2?:embed=y&:display_count=yes&:showVizHome=no#3\"\n",
              "            frameborder=\"0\"\n",
              "            allowfullscreen\n",
              "        ></iframe>\n",
              "        "
            ],
            "text/plain": [
              "<IPython.lib.display.IFrame at 0x7f51b0669ef0>"
            ]
          },
          "metadata": {
            "tags": []
          },
          "execution_count": 18
        }
      ]
    },
    {
      "cell_type": "markdown",
      "metadata": {
        "id": "9TP-BwN9vKAF",
        "colab_type": "text"
      },
      "source": [
        "Linear regression among various socio-economic indicators and happiness score"
      ]
    },
    {
      "cell_type": "code",
      "metadata": {
        "id": "9yCdTw21tEN7",
        "colab_type": "code",
        "outputId": "6ff1340b-5089-4ead-d303-d81bb70c65ff",
        "colab": {
          "base_uri": "https://localhost:8080/",
          "height": 966
        }
      },
      "source": [
        "IFrame('https://public.tableau.com/views/DataVizprojectSub-Groups/Dashboard3?:embed=y&:display_count=yes&:showVizHome=no#3', width=1800, height=925)"
      ],
      "execution_count": 0,
      "outputs": [
        {
          "output_type": "execute_result",
          "data": {
            "text/html": [
              "\n",
              "        <iframe\n",
              "            width=\"1800\"\n",
              "            height=\"925\"\n",
              "            src=\"https://public.tableau.com/views/DataVizprojectSub-Groups/Dashboard3?:embed=y&:display_count=yes&:showVizHome=no#3\"\n",
              "            frameborder=\"0\"\n",
              "            allowfullscreen\n",
              "        ></iframe>\n",
              "        "
            ],
            "text/plain": [
              "<IPython.lib.display.IFrame at 0x7f51b0669860>"
            ]
          },
          "metadata": {
            "tags": []
          },
          "execution_count": 17
        }
      ]
    },
    {
      "cell_type": "markdown",
      "metadata": {
        "id": "yzgfHKTPuasx",
        "colab_type": "text"
      },
      "source": [
        "Dataset sources:\n",
        "1 https://www.kaggle.com/flyingmonkey/world-happiness/data\n",
        "2 https://datahub.io/world-bank/sp.dyn.cbrt.in\n",
        "3 https://ec.europa.eu/eurostat/data/database\n",
        "4 www3.weforum.org/docs/GCR2017-2018/GCI_Dataset_2007-2017.xlsx\n"
      ]
    }
  ]
}